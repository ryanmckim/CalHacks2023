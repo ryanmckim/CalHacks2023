{
 "cells": [
  {
   "cell_type": "code",
   "execution_count": 1,
   "id": "84587f5e-1278-4fd9-afa3-67f29e282eb0",
   "metadata": {},
   "outputs": [],
   "source": [
    "import cv2\n",
    "import os\n",
    "import requests\n",
    "from PIL import Image\n",
    "from transformers import BlipProcessor, BlipForConditionalGeneration"
   ]
  },
  {
   "cell_type": "code",
   "execution_count": 2,
   "id": "1ca15213-7446-4732-945b-c5f825ecff18",
   "metadata": {},
   "outputs": [
    {
     "name": "stdout",
     "output_type": "stream",
     "text": [
      "Saved frame 149\n",
      "Saved frame 298\n",
      "Saved frame 447\n"
     ]
    }
   ],
   "source": [
    "video_path = 'data/nature.mp4'\n",
    "cap = cv2.VideoCapture(video_path)\n",
    "\n",
    "output_directory = 'output_frames'\n",
    "os.makedirs(output_directory, exist_ok=True)\n",
    "\n",
    "fps = cap.get(cv2.CAP_PROP_FPS)\n",
    "interval_seconds = 5\n",
    "interval_frames = int(fps * interval_seconds)\n",
    "count = 1\n",
    "\n",
    "if not cap.isOpened():\n",
    "    print(\"Error opening video file\")\n",
    "else:\n",
    "    while cap.isOpened():\n",
    "        # Capture frame-by-frame\n",
    "        ret, frame = cap.read()\n",
    "\n",
    "        if not ret:\n",
    "            break\n",
    "\n",
    "        if count % interval_frames == 0:\n",
    "            output_path = os.path.join(output_directory, f\"frame_{count}.jpg\")\n",
    "            cv2.imwrite(output_path, frame)\n",
    "            print(f\"Saved frame {count}\")\n",
    "        count += 1\n",
    "    cap.release()\n"
   ]
  },
  {
   "cell_type": "code",
   "execution_count": 3,
   "id": "747ebb67-068b-449f-bddd-9689f9c6b910",
   "metadata": {},
   "outputs": [
    {
     "data": {
      "application/vnd.jupyter.widget-view+json": {
       "model_id": "eddbe0b028494971be4bf0d04f15a922",
       "version_major": 2,
       "version_minor": 0
      },
      "text/plain": [
       "Downloading pytorch_model.bin:   0%|          | 0.00/1.88G [00:00<?, ?B/s]"
      ]
     },
     "metadata": {},
     "output_type": "display_data"
    },
    {
     "ename": "NameError",
     "evalue": "name 'directory' is not defined",
     "output_type": "error",
     "traceback": [
      "\u001b[0;31m---------------------------------------------------------------------------\u001b[0m",
      "\u001b[0;31mNameError\u001b[0m                                 Traceback (most recent call last)",
      "Cell \u001b[0;32mIn[3], line 5\u001b[0m\n\u001b[1;32m      2\u001b[0m model \u001b[38;5;241m=\u001b[39m BlipForConditionalGeneration\u001b[38;5;241m.\u001b[39mfrom_pretrained(\u001b[38;5;124m\"\u001b[39m\u001b[38;5;124mSalesforce/blip-image-captioning-large\u001b[39m\u001b[38;5;124m\"\u001b[39m)\n\u001b[1;32m      4\u001b[0m \u001b[38;5;28;01mif\u001b[39;00m os\u001b[38;5;241m.\u001b[39mpath\u001b[38;5;241m.\u001b[39mexists(output_directory):\n\u001b[0;32m----> 5\u001b[0m     \u001b[38;5;28;01mfor\u001b[39;00m filename \u001b[38;5;129;01min\u001b[39;00m os\u001b[38;5;241m.\u001b[39mlistdir(\u001b[43mdirectory\u001b[49m):\n\u001b[1;32m      6\u001b[0m         \u001b[38;5;28mprint\u001b[39m(\u001b[38;5;124mf\u001b[39m\u001b[38;5;124m\"\u001b[39m\u001b[38;5;124mProcessing \u001b[39m\u001b[38;5;132;01m{\u001b[39;00mfilename\u001b[38;5;132;01m}\u001b[39;00m\u001b[38;5;124m\"\u001b[39m)\n\u001b[1;32m      7\u001b[0m         raw_image \u001b[38;5;241m=\u001b[39m Image\u001b[38;5;241m.\u001b[39mopen(\u001b[38;5;124mr\u001b[39m\u001b[38;5;124m'\u001b[39m\u001b[38;5;124mfilename\u001b[39m\u001b[38;5;124m'\u001b[39m)\n",
      "\u001b[0;31mNameError\u001b[0m: name 'directory' is not defined"
     ]
    }
   ],
   "source": [
    "processor = BlipProcessor.from_pretrained(\"Salesforce/blip-image-captioning-large\")\n",
    "model = BlipForConditionalGeneration.from_pretrained(\"Salesforce/blip-image-captioning-large\")"
   ]
  },
  {
   "cell_type": "code",
   "execution_count": null,
   "id": "068181f4-7828-4467-9fbd-455f69a29a02",
   "metadata": {},
   "outputs": [
    {
     "name": "stdout",
     "output_type": "stream",
     "text": [
      "Skipping .ipynb_checkpoints\n",
      "Processing frame_149.jpg\n",
      "the mood of the image is very interesting and it is very beautiful\n"
     ]
    }
   ],
   "source": [
    "if os.path.exists(output_directory):\n",
    "    for filename in os.listdir(output_directory):\n",
    "        \n",
    "        if filename.endswith(\".jpg\"):\n",
    "            print(f\"Processing {filename}\")\n",
    "            raw_image = Image.open(os.path.join(output_directory, filename), \"r\")\n",
    "            # Finetuning here\n",
    "            # conditional image captioning\n",
    "            text = \"the mood of the image is\"\n",
    "            inputs = processor(raw_image, text, return_tensors=\"pt\")\n",
    "            \n",
    "            out = model.generate(**inputs)\n",
    "            print(processor.decode(out[0], skip_special_tokens=True))\n",
    "            \n",
    "            # unconditional image captioning\n",
    "            inputs = processor(raw_image, return_tensors=\"pt\")\n",
    "            \n",
    "            out = model.generate(**inputs)\n",
    "            print(processor.decode(out[0], skip_special_tokens=True))\n",
    "        else:\n",
    "            print(f\"Skipping {filename}\")\n",
    "        \n",
    "else:\n",
    "    print(f\"Directory '{directory}' does not exist.\")\n",
    "\n",
    "\n",
    "#img_url = 'https://storage.googleapis.com/sfr-vision-language-research/BLIP/demo.jpg'\n",
    "#raw_image = Image.open(requests.get(img_url, stream=True).raw).convert('RGB')"
   ]
  },
  {
   "cell_type": "code",
   "execution_count": null,
   "id": "f4e723b1-7f00-4983-8b64-1b098ce75341",
   "metadata": {},
   "outputs": [],
   "source": []
  }
 ],
 "metadata": {
  "kernelspec": {
   "display_name": "Python 3 (ipykernel)",
   "language": "python",
   "name": "python3"
  },
  "language_info": {
   "codemirror_mode": {
    "name": "ipython",
    "version": 3
   },
   "file_extension": ".py",
   "mimetype": "text/x-python",
   "name": "python",
   "nbconvert_exporter": "python",
   "pygments_lexer": "ipython3",
   "version": "3.11.0"
  }
 },
 "nbformat": 4,
 "nbformat_minor": 5
}
